{
 "cells": [
  {
   "cell_type": "markdown",
   "id": "6e6fd249-7bb8-4ebe-8a33-a8102f0fcb91",
   "metadata": {},
   "source": [
    "\"\"\"\n",
    "1. What are data structures, and why are they important?\n",
    "Data structures are ways of organizing and storing data in a computer so it can be accessed and modified efficiently. They are important because they determine the performance of algorithms and applications in terms of speed, memory usage, and scalability.\n",
    "\n",
    "\n",
    "2. Explain the difference between mutable and immutable data types with examples.\n",
    "Mutable data types can be modified after creation (e.g., lists, dictionaries). Immutable data types cannot be modified after creation (e.g., tuples, strings). For example, you can append to a list but cannot change a tuple once it’s created.\n",
    "\n",
    "\n",
    "3. What are the main differences between lists and tuples in Python?\n",
    "\n",
    "Lists are mutable, while tuples are immutable.\n",
    "\n",
    "Lists use more memory and are slower, whereas tuples are more memory-efficient and faster.\n",
    "\n",
    "Tuples are generally used for fixed data, while lists are used for dynamic data.\n",
    "\n",
    "\n",
    "\n",
    "4. Describe how dictionaries store data.\n",
    "Dictionaries store data as key-value pairs in a hash table, allowing fast lookup, insertion, and deletion based on unique keys.\n",
    "\n",
    "\n",
    "5. Why might you use a set instead of a list in Python?\n",
    "Sets are used when you need unique elements and fast membership checks, as they do not allow duplicates and are implemented as hash tables.\n",
    "\n",
    "\n",
    "6. What is a string in Python, and how is it different from a list?\n",
    "A string is a sequence of characters enclosed in quotes, while a list is a collection of items (which can include different data types). Strings are immutable, whereas lists are mutable.\n",
    "\n",
    "\n",
    "7. How do tuples ensure data integrity in Python?\n",
    "Tuples are immutable, meaning their elements cannot be modified after creation. This ensures that the data remains constant and unchanged.\n",
    "\n",
    "\n",
    "8. What is a hash table, and how does it relate to dictionaries in Python?\n",
    "A hash table is a data structure that maps keys to values using a hash function. Python dictionaries are implemented using hash tables, providing fast access to values based on their keys.\n",
    "\n",
    "\n",
    "9. Can lists contain different data types in Python?\n",
    "Yes, lists can hold items of different data types, such as integers, strings, or even other lists.\n",
    "\n",
    "\n",
    "10. Explain why strings are immutable in Python.\n",
    "Strings are immutable to ensure consistency, improve performance, and enable safe sharing between different parts of a program.\n",
    "\n",
    "\n",
    "11. What advantages do dictionaries offer over lists for certain tasks?\n",
    "Dictionaries allow fast access to elements via keys, making them ideal for tasks like lookups, indexing, and mapping relationships, unlike lists, which require linear search.\n",
    "\n",
    "\n",
    "12. Describe a scenario where using a tuple would be preferable over a list.\n",
    "When storing fixed data like coordinates (e.g., (10, 20)) or configuration settings that should not be modified, tuples are preferable.\n",
    "\n",
    "\n",
    "13. How do sets handle duplicate values in Python?\n",
    "Sets automatically remove duplicate values when they are added, ensuring all elements are unique.\n",
    "\n",
    "\n",
    "14. How does the \"in\" keyword work differently for lists and dictionaries?\n",
    "\n",
    "For lists, \"in\" checks for the presence of a value.\n",
    "\n",
    "For dictionaries, \"in\" checks for the presence of a key.\n",
    "\n",
    "\n",
    "\n",
    "15. Can you modify the elements of a tuple? Explain why or why not.\n",
    "No, tuples are immutable, so their elements cannot be modified after creation. This ensures data integrity.\n",
    "\n",
    "\n",
    "16. What is a nested dictionary, and give an example of its use case?\n",
    "A nested dictionary is a dictionary within another dictionary. Example: storing student data with subjects as inner dictionaries.\n",
    "\n",
    "students = {\"Alice\": {\"Math\": 90, \"Science\": 85}}\n",
    "\n",
    "\n",
    "17. Describe the time complexity of accessing elements in a dictionary.\n",
    "Accessing an element in a dictionary is O(1) on average, due to the hash table implementation.\n",
    "\n",
    "\n",
    "18. In what situations are lists preferred over dictionaries?\n",
    "Lists are preferred when the order of elements is important or when working with sequential data without key-value relationships.\n",
    "\n",
    "\n",
    "19. Why are dictionaries considered unordered, and how does that affect data retrieval?\n",
    "Prior to Python 3.7, dictionaries were unordered, meaning the order of elements was not preserved. However, modern Python versions maintain insertion order, but data retrieval is still based on keys, not positions.\n",
    "\n",
    "\n",
    "20. Explain the difference between a list and a dictionary in terms of data retrieval.\n",
    "\n",
    "Lists require searching by index or iterating, with a time complexity of O(n) for searches.\n",
    "\n",
    "Dictionaries allow direct retrieval by key, with O(1) time complexity on average.\n",
    "\"\"\"\n"
   ]
  },
  {
   "cell_type": "code",
   "execution_count": 1,
   "id": "20911361-99e5-4bf2-bdfe-acdc92b9ac60",
   "metadata": {},
   "outputs": [
    {
     "name": "stdout",
     "output_type": "stream",
     "text": [
      "amit singh\n"
     ]
    }
   ],
   "source": [
    "#PRECTICAL QUESTION :\n",
    "#1\n",
    "name = \"amit singh\"\n",
    "print(name)"
   ]
  },
  {
   "cell_type": "code",
   "execution_count": 3,
   "id": "2b5c707a-6d48-4f86-a321-f32eb5b7d879",
   "metadata": {},
   "outputs": [
    {
     "name": "stdout",
     "output_type": "stream",
     "text": [
      "11\n"
     ]
    }
   ],
   "source": [
    "#2\n",
    "string = \"hello world\"\n",
    "print(len(string))"
   ]
  },
  {
   "cell_type": "code",
   "execution_count": 4,
   "id": "c4579b57-7975-48a2-af03-a1705d5996b2",
   "metadata": {},
   "outputs": [
    {
     "name": "stdout",
     "output_type": "stream",
     "text": [
      "pyt\n"
     ]
    }
   ],
   "source": [
    "#3\n",
    "string = \"pythobn programming\"\n",
    "print(string[:3])"
   ]
  },
  {
   "cell_type": "code",
   "execution_count": 6,
   "id": "17fe87d2-45ee-4dde-b473-45557ef9558d",
   "metadata": {},
   "outputs": [
    {
     "name": "stdout",
     "output_type": "stream",
     "text": [
      "HELLO\n"
     ]
    }
   ],
   "source": [
    "#4\n",
    "string = \"hello\"\n",
    "print(string.upper())"
   ]
  },
  {
   "cell_type": "code",
   "execution_count": 9,
   "id": "2dc09954-faf5-4011-ae81-819b2edf3fef",
   "metadata": {},
   "outputs": [
    {
     "name": "stdout",
     "output_type": "stream",
     "text": [
      "hello\n"
     ]
    }
   ],
   "source": [
    "#5\n",
    "strinfg = \"i love apple\" \n",
    "print(string.replace(\"apple\",\"orange\"))"
   ]
  },
  {
   "cell_type": "code",
   "execution_count": 10,
   "id": "195fabbf-7c38-417a-af31-1e81c9367c79",
   "metadata": {},
   "outputs": [
    {
     "name": "stdout",
     "output_type": "stream",
     "text": [
      "[1, 2, 3, 4]\n"
     ]
    }
   ],
   "source": [
    "#6\n",
    "numbers = [1, 2, 3, 4]\n",
    "print(numbers)"
   ]
  },
  {
   "cell_type": "code",
   "execution_count": 11,
   "id": "0c50ede4-7c6b-4be4-ba77-433e637fd7c2",
   "metadata": {},
   "outputs": [
    {
     "name": "stdout",
     "output_type": "stream",
     "text": [
      "[1, 2, 3, 4, 10]\n"
     ]
    }
   ],
   "source": [
    "#7\n",
    "numbers =[1, 2, 3, 4]\n",
    "numbers.append(10)\n",
    "print(numbers)\n"
   ]
  },
  {
   "cell_type": "code",
   "execution_count": 14,
   "id": "0e7b407d-f549-4187-b714-69925affb80e",
   "metadata": {},
   "outputs": [
    {
     "name": "stdout",
     "output_type": "stream",
     "text": [
      "[1, 2, 4, 5]\n"
     ]
    }
   ],
   "source": [
    "#8\n",
    "numbers = [1, 2, 3, 4, 5]\n",
    "numbers.remove(3)\n",
    "print(numbers)"
   ]
  },
  {
   "cell_type": "code",
   "execution_count": 15,
   "id": "2eb57189-c303-4bf8-a585-7e08f275f81a",
   "metadata": {},
   "outputs": [
    {
     "name": "stdout",
     "output_type": "stream",
     "text": [
      "b\n"
     ]
    }
   ],
   "source": [
    "#9\n",
    "letters = ['a', 'b', 'c', 'd']\n",
    "print(letters[1])"
   ]
  },
  {
   "cell_type": "code",
   "execution_count": 16,
   "id": "5841f8ba-8951-4074-acb5-52a6200395da",
   "metadata": {},
   "outputs": [
    {
     "name": "stdout",
     "output_type": "stream",
     "text": [
      "[50, 40, 30, 20, 10]\n"
     ]
    }
   ],
   "source": [
    "#10\n",
    "numbers = [10, 20, 30, 40, 50]\n",
    "numbers.reverse()\n",
    "print(numbers)"
   ]
  },
  {
   "cell_type": "code",
   "execution_count": 17,
   "id": "bc797baf-6acb-4a3b-8fa5-2d9493c49f1e",
   "metadata": {},
   "outputs": [
    {
     "name": "stdout",
     "output_type": "stream",
     "text": [
      "(10, 20, 30)\n"
     ]
    }
   ],
   "source": [
    "#11\n",
    "my_tuple = (10, 20, 30)\n",
    "print(my_tuple)"
   ]
  },
  {
   "cell_type": "code",
   "execution_count": 19,
   "id": "f5c26154-d7ca-4d6c-b87c-fa35b378234e",
   "metadata": {},
   "outputs": [
    {
     "name": "stdout",
     "output_type": "stream",
     "text": [
      "apple\n"
     ]
    }
   ],
   "source": [
    "#12\n",
    "my_tuple = ('apple', 'banana', 'chery')\n",
    "print(my_tuple[0])"
   ]
  },
  {
   "cell_type": "code",
   "execution_count": 21,
   "id": "6187eb03-1d21-4053-8cfd-0ea5ce0b6a37",
   "metadata": {},
   "outputs": [
    {
     "name": "stdout",
     "output_type": "stream",
     "text": [
      "3\n"
     ]
    }
   ],
   "source": [
    "#13\n",
    "my_tuple = (1, 2, 3, 2, 4, 2)\n",
    "print(my_tuple.count(2))"
   ]
  },
  {
   "cell_type": "code",
   "execution_count": 22,
   "id": "9656ebec-0207-42dd-9ffa-8b6302edbbad",
   "metadata": {},
   "outputs": [
    {
     "name": "stdout",
     "output_type": "stream",
     "text": [
      "1\n"
     ]
    }
   ],
   "source": [
    "#14\n",
    "my_tuple = ('dog', 'cat', 'rabbit')\n",
    "print(my_tuple.index('cat'))"
   ]
  },
  {
   "cell_type": "code",
   "execution_count": 23,
   "id": "282c54fc-9d4e-451f-83d7-9339516ff29a",
   "metadata": {},
   "outputs": [
    {
     "name": "stdout",
     "output_type": "stream",
     "text": [
      "True\n"
     ]
    }
   ],
   "source": [
    "#15\n",
    "my_tuple = ('apple', 'orange', 'banana')\n",
    "print('banana' in my_tuple)"
   ]
  },
  {
   "cell_type": "code",
   "execution_count": 24,
   "id": "3bb99ba3-efa2-4972-b567-178920585aae",
   "metadata": {},
   "outputs": [
    {
     "name": "stdout",
     "output_type": "stream",
     "text": [
      "{1, 2, 3, 4, 5}\n"
     ]
    }
   ],
   "source": [
    "#16\n",
    "my_set = {1, 2, 3, 4, 5,}\n",
    "print(my_set)"
   ]
  },
  {
   "cell_type": "code",
   "execution_count": 26,
   "id": "03dbc4d9-f66d-40bc-9686-7dec399ef175",
   "metadata": {},
   "outputs": [
    {
     "name": "stdout",
     "output_type": "stream",
     "text": [
      "{1, 2, 3, 4, 6}\n"
     ]
    }
   ],
   "source": [
    "#17\n",
    "my_set = {1, 2, 3, 4}\n",
    "my_set.add(6)\n",
    "print(my_set)"
   ]
  },
  {
   "cell_type": "code",
   "execution_count": 27,
   "id": "6f7977e7-a7f1-4e45-8f83-46bd25b826b7",
   "metadata": {},
   "outputs": [
    {
     "name": "stdout",
     "output_type": "stream",
     "text": [
      "(10, 20, 30)\n"
     ]
    }
   ],
   "source": [
    "#18\n",
    "my_tuple = (10, 20, 30,)\n",
    "print(my_tuple)"
   ]
  },
  {
   "cell_type": "code",
   "execution_count": 28,
   "id": "1b48e60a-1d25-4fa1-8000-8adcf16367f5",
   "metadata": {},
   "outputs": [
    {
     "name": "stdout",
     "output_type": "stream",
     "text": [
      "apple\n"
     ]
    }
   ],
   "source": [
    "#19\n",
    "fruits = ('apple', 'banana', 'cherry')\n",
    "print(fruits[0])"
   ]
  },
  {
   "cell_type": "code",
   "execution_count": 29,
   "id": "38ef026c-c318-4dd9-a8e9-674b4454d0dd",
   "metadata": {},
   "outputs": [
    {
     "name": "stdout",
     "output_type": "stream",
     "text": [
      "3\n"
     ]
    }
   ],
   "source": [
    "#20\n",
    "my_tuple = (1, 2, 3, 2, 4, 2)\n",
    "print(my_tuple.count(2))"
   ]
  },
  {
   "cell_type": "code",
   "execution_count": 30,
   "id": "710268e8-8dea-484c-a7fc-35c8a8d1edbb",
   "metadata": {},
   "outputs": [
    {
     "name": "stdout",
     "output_type": "stream",
     "text": [
      "1\n"
     ]
    }
   ],
   "source": [
    "#21\n",
    "animal = ('dog', 'cat', 'rabbit')\n",
    "index = animal.index('cat')\n",
    "print(index)"
   ]
  },
  {
   "cell_type": "code",
   "execution_count": 31,
   "id": "af8fb5fc-430b-4f66-8bd9-e62fad3d4969",
   "metadata": {},
   "outputs": [
    {
     "name": "stdout",
     "output_type": "stream",
     "text": [
      "True\n"
     ]
    }
   ],
   "source": [
    "#22\n",
    "fruits = ('apple', 'orange', 'banana')\n",
    "is_banana_in_tuple = 'banana' in fruits\n",
    "print(is_banana_in_tuple)"
   ]
  },
  {
   "cell_type": "code",
   "execution_count": 32,
   "id": "c10be6eb-1ad5-4833-bbaa-1b427f65e5c0",
   "metadata": {},
   "outputs": [
    {
     "name": "stdout",
     "output_type": "stream",
     "text": [
      "{1, 2, 3, 4, 5}\n"
     ]
    }
   ],
   "source": [
    "#23\n",
    "my_set = {1, 2, 3, 4, 5,}\n",
    "print(my_set)"
   ]
  },
  {
   "cell_type": "code",
   "execution_count": 33,
   "id": "4b21c67e-2ad1-4769-be82-034c62a9ca39",
   "metadata": {},
   "outputs": [
    {
     "name": "stdout",
     "output_type": "stream",
     "text": [
      "{1, 2, 3, 4, 6}\n"
     ]
    }
   ],
   "source": [
    "#24\n",
    "my_set = {1, 2, 3, 4}\n",
    "my_set.add(6)\n",
    "print(my_set)"
   ]
  },
  {
   "cell_type": "code",
   "execution_count": null,
   "id": "46bcf774-60b2-4cf2-8beb-5318b0141806",
   "metadata": {},
   "outputs": [],
   "source": []
  }
 ],
 "metadata": {
  "kernelspec": {
   "display_name": "Python 3 (ipykernel)",
   "language": "python",
   "name": "python3"
  },
  "language_info": {
   "codemirror_mode": {
    "name": "ipython",
    "version": 3
   },
   "file_extension": ".py",
   "mimetype": "text/x-python",
   "name": "python",
   "nbconvert_exporter": "python",
   "pygments_lexer": "ipython3",
   "version": "3.13.1"
  }
 },
 "nbformat": 4,
 "nbformat_minor": 5
}
